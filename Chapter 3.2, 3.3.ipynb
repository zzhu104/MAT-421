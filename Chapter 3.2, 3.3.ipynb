{
  "nbformat": 4,
  "nbformat_minor": 0,
  "metadata": {
    "colab": {
      "name": "Untitled19.ipynb",
      "provenance": [],
      "authorship_tag": "ABX9TyN4Xaxlu2kYASFH+4sPJf93",
      "include_colab_link": true
    },
    "kernelspec": {
      "name": "python3",
      "display_name": "Python 3"
    },
    "language_info": {
      "name": "python"
    }
  },
  "cells": [
    {
      "cell_type": "markdown",
      "metadata": {
        "id": "view-in-github",
        "colab_type": "text"
      },
      "source": [
        "<a href=\"https://colab.research.google.com/github/zzhu104/MAT-421/blob/main/Chapter%203.2%2C%203.3.ipynb\" target=\"_parent\"><img src=\"https://colab.research.google.com/assets/colab-badge.svg\" alt=\"Open In Colab\"/></a>"
      ]
    },
    {
      "cell_type": "markdown",
      "source": [
        "# Chapter 3.2"
      ],
      "metadata": {
        "id": "UyJmIhfleHyQ"
      }
    },
    {
      "cell_type": "markdown",
      "source": [
        "Calculating limits"
      ],
      "metadata": {
        "id": "f-sVZ09JeZrh"
      }
    },
    {
      "cell_type": "code",
      "execution_count": 3,
      "metadata": {
        "colab": {
          "base_uri": "https://localhost:8080/"
        },
        "id": "5L8vX-VcdhKp",
        "outputId": "5205c160-ea4c-47df-dbc4-979f6cb4a643"
      },
      "outputs": [
        {
          "output_type": "stream",
          "name": "stdout",
          "text": [
            "The Limit is: 1\n"
          ]
        }
      ],
      "source": [
        "import sympy as sp\n",
        "x=sp.Symbol('x')\n",
        "f=sp.sin(x)/x\n",
        "L=sp.limit(f,x,0)\n",
        "print(\"The Limit is:\",L)"
      ]
    },
    {
      "cell_type": "code",
      "source": [
        "import sympy as sp\n",
        "y=sp.Symbol('y')\n",
        "f=sp.sin(2*y)/y\n",
        "L=sp.limit(f,y,0)\n",
        "print(\"The limit is:\",L)"
      ],
      "metadata": {
        "colab": {
          "base_uri": "https://localhost:8080/"
        },
        "id": "R63GZC-weock",
        "outputId": "37fc7975-4078-4a57-8889-cc778df93e70"
      },
      "execution_count": 4,
      "outputs": [
        {
          "output_type": "stream",
          "name": "stdout",
          "text": [
            "The limit is: 2\n"
          ]
        }
      ]
    },
    {
      "cell_type": "markdown",
      "source": [
        "Calculating Derivatives"
      ],
      "metadata": {
        "id": "QbTQwmgNetjD"
      }
    },
    {
      "cell_type": "code",
      "source": [
        "import sympy as sp\n",
        "x=sp.Symbol('x')\n",
        "f=sp.sin(x)+x**2+sp.exp(4*x)\n",
        "print(f)\n",
        "df=sp.diff(f,x)\n",
        "print(df)\n",
        "ddf=sp.diff(f,x,2)\n",
        "print(ddf)"
      ],
      "metadata": {
        "colab": {
          "base_uri": "https://localhost:8080/"
        },
        "id": "MjMCe8Osex8c",
        "outputId": "44a8eb09-9a95-4aef-f784-c99e3951690c"
      },
      "execution_count": 6,
      "outputs": [
        {
          "output_type": "stream",
          "name": "stdout",
          "text": [
            "x**2 + exp(4*x) + sin(x)\n",
            "2*x + 4*exp(4*x) + cos(x)\n",
            "16*exp(4*x) - sin(x) + 2\n"
          ]
        }
      ]
    },
    {
      "cell_type": "code",
      "source": [
        "import sympy as sp\n",
        "y=sp.Symbol('y')\n",
        "f=sp.cos(y)+4*y+y**3\n",
        "print(f)\n",
        "df=sp.diff(f,y)\n",
        "print(df)"
      ],
      "metadata": {
        "colab": {
          "base_uri": "https://localhost:8080/"
        },
        "id": "6DGcVi0FfR2e",
        "outputId": "4233dc40-dc90-479b-9122-461a7e052460"
      },
      "execution_count": 7,
      "outputs": [
        {
          "output_type": "stream",
          "name": "stdout",
          "text": [
            "y**3 + 4*y + cos(y)\n",
            "3*y**2 - sin(y) + 4\n"
          ]
        }
      ]
    },
    {
      "cell_type": "markdown",
      "source": [
        "Equation Solving"
      ],
      "metadata": {
        "id": "DZHb_azcfwKk"
      }
    },
    {
      "cell_type": "code",
      "source": [
        "import sympy as sym\n",
        "solution = sym.solve((x + 5 * y - 2, -3 * x + 6 * y - 15), (x, y))\n",
        "solution[x], solution[y]"
      ],
      "metadata": {
        "colab": {
          "base_uri": "https://localhost:8080/"
        },
        "id": "No7l-A6lfxqH",
        "outputId": "b1b6a94d-3845-4f09-ab9d-2d9d4e518c86"
      },
      "execution_count": 9,
      "outputs": [
        {
          "output_type": "execute_result",
          "data": {
            "text/plain": [
              "(-3, 1)"
            ]
          },
          "metadata": {},
          "execution_count": 9
        }
      ]
    },
    {
      "cell_type": "code",
      "source": [
        "f = x ** 4 - 3 * x ** 2 + 1\n",
        "sym.factor(f)\n",
        "\n",
        "\n",
        "\n",
        "sym.factor(f, modulus=5)"
      ],
      "metadata": {
        "colab": {
          "base_uri": "https://localhost:8080/",
          "height": 40
        },
        "id": "UKy1MRqtgLk6",
        "outputId": "2f783121-f308-41da-c081-389c6df28181"
      },
      "execution_count": 10,
      "outputs": [
        {
          "output_type": "execute_result",
          "data": {
            "text/latex": "$\\displaystyle \\left(x - 2\\right)^{2} \\left(x + 2\\right)^{2}$",
            "text/plain": [
              "(x - 2)**2*(x + 2)**2"
            ]
          },
          "metadata": {},
          "execution_count": 10
        }
      ]
    },
    {
      "cell_type": "code",
      "source": [
        "sym.satisfiable(x & y)"
      ],
      "metadata": {
        "colab": {
          "base_uri": "https://localhost:8080/"
        },
        "id": "C8o6MFlCgNhz",
        "outputId": "ea3f5fcf-615f-4d78-f1a5-d217feb014e5"
      },
      "execution_count": 12,
      "outputs": [
        {
          "output_type": "execute_result",
          "data": {
            "text/plain": [
              "{x: True, y: True}"
            ]
          },
          "metadata": {},
          "execution_count": 12
        }
      ]
    },
    {
      "cell_type": "code",
      "source": [
        "sym.satisfiable(x & ~x)"
      ],
      "metadata": {
        "colab": {
          "base_uri": "https://localhost:8080/"
        },
        "id": "n1DUPy9TgSS5",
        "outputId": "1a7b80f0-3c62-4e49-c4a0-c8212f6a24a3"
      },
      "execution_count": 13,
      "outputs": [
        {
          "output_type": "execute_result",
          "data": {
            "text/plain": [
              "False"
            ]
          },
          "metadata": {},
          "execution_count": 13
        }
      ]
    },
    {
      "cell_type": "markdown",
      "source": [
        "Matrix"
      ],
      "metadata": {
        "id": "u8CA6Umbg0s-"
      }
    },
    {
      "cell_type": "code",
      "source": [
        "sym.Matrix([[1, 0], [0, 1]])"
      ],
      "metadata": {
        "colab": {
          "base_uri": "https://localhost:8080/",
          "height": 58
        },
        "id": "1VGzwAWHg2ET",
        "outputId": "756521d6-99b3-4d88-e1a5-931ab35d43c2"
      },
      "execution_count": 14,
      "outputs": [
        {
          "output_type": "execute_result",
          "data": {
            "text/latex": "$\\displaystyle \\left[\\begin{matrix}1 & 0\\\\0 & 1\\end{matrix}\\right]$",
            "text/plain": [
              "Matrix([\n",
              "[1, 0],\n",
              "[0, 1]])"
            ]
          },
          "metadata": {},
          "execution_count": 14
        }
      ]
    },
    {
      "cell_type": "code",
      "source": [
        "x, y = sym.symbols('x, y')\n",
        "A = sym.Matrix([[1, x], [y, 1]])\n",
        "A**2"
      ],
      "metadata": {
        "colab": {
          "base_uri": "https://localhost:8080/",
          "height": 58
        },
        "id": "m9dDgKpOg3y-",
        "outputId": "5853ffe5-99ce-4af6-f3cb-66096798250f"
      },
      "execution_count": 16,
      "outputs": [
        {
          "output_type": "execute_result",
          "data": {
            "text/latex": "$\\displaystyle \\left[\\begin{matrix}x y + 1 & 2 x\\\\2 y & x y + 1\\end{matrix}\\right]$",
            "text/plain": [
              "Matrix([\n",
              "[x*y + 1,     2*x],\n",
              "[    2*y, x*y + 1]])"
            ]
          },
          "metadata": {},
          "execution_count": 16
        }
      ]
    },
    {
      "cell_type": "markdown",
      "source": [
        "Differential Equations"
      ],
      "metadata": {
        "id": "-LLvJvtMg_9Y"
      }
    },
    {
      "cell_type": "code",
      "source": [
        "f, g = sym.symbols('f g', cls=sym.Function)"
      ],
      "metadata": {
        "id": "NT1hVxgog_j8"
      },
      "execution_count": 17,
      "outputs": []
    },
    {
      "cell_type": "code",
      "source": [
        "f(x)\n",
        "\n",
        "\n",
        "f(x).diff(x, x) + f(x)\n",
        "\n",
        "\n",
        "\n",
        "\n",
        "\n",
        "\n",
        "sym.dsolve(f(x).diff(x, x) + f(x), f(x))"
      ],
      "metadata": {
        "colab": {
          "base_uri": "https://localhost:8080/",
          "height": 39
        },
        "id": "v2HCniIshDcb",
        "outputId": "6a1ecb84-6513-42a5-b1f3-bb996214c54d"
      },
      "execution_count": 18,
      "outputs": [
        {
          "output_type": "execute_result",
          "data": {
            "text/latex": "$\\displaystyle f{\\left(x \\right)} = C_{1} \\sin{\\left(x \\right)} + C_{2} \\cos{\\left(x \\right)}$",
            "text/plain": [
              "Eq(f(x), C1*sin(x) + C2*cos(x))"
            ]
          },
          "metadata": {},
          "execution_count": 18
        }
      ]
    },
    {
      "cell_type": "code",
      "source": [
        "sym.dsolve(sym.sin(x) * sym.cos(f(x)) + sym.cos(x) * sym.sin(f(x)) * f(x).diff(x), f(x), hint='separable') "
      ],
      "metadata": {
        "colab": {
          "base_uri": "https://localhost:8080/"
        },
        "id": "t2D7J8Q5hGNp",
        "outputId": "bd16e459-687c-4e89-a09b-3dbc3f59627c"
      },
      "execution_count": 19,
      "outputs": [
        {
          "output_type": "execute_result",
          "data": {
            "text/plain": [
              "[Eq(f(x), -acos(C1/cos(x)) + 2*pi), Eq(f(x), acos(C1/cos(x)))]"
            ]
          },
          "metadata": {},
          "execution_count": 19
        }
      ]
    },
    {
      "cell_type": "markdown",
      "source": [
        "Taylor's Theorem"
      ],
      "metadata": {
        "id": "sAKV-M06iMgZ"
      }
    },
    {
      "cell_type": "code",
      "source": [
        "import math\n",
        "\n",
        "def func_cos(x, n):\n",
        "    cos_approx = 0\n",
        "    for i in range(n):\n",
        "        coef = (-1)**i\n",
        "        num = x**(2*i)\n",
        "        denom = math.factorial(2*i)\n",
        "        cos_approx += ( coef ) * ( (num)/(denom) )\n",
        "    \n",
        "    return cos_approx"
      ],
      "metadata": {
        "id": "0TX0o0DGij01"
      },
      "execution_count": 22,
      "outputs": []
    },
    {
      "cell_type": "code",
      "source": [
        "import math\n",
        "import numpy as np\n",
        "import matplotlib.pyplot as plt\n",
        "\n",
        "angles = np.arange(-2*np.pi,2*np.pi,0.1)\n",
        "p_cos = np.cos(angles)\n",
        "t_cos = [func_cos(angle,3) for angle in angles]\n",
        "\n",
        "fig, ax = plt.subplots()\n",
        "ax.plot(angles,p_cos)\n",
        "ax.plot(angles,t_cos)\n",
        "ax.set_ylim([-5,5])\n",
        "ax.legend(['cos() function','Taylor Series - 3 terms'])\n",
        "\n",
        "plt.show()"
      ],
      "metadata": {
        "colab": {
          "base_uri": "https://localhost:8080/",
          "height": 265
        },
        "id": "-MuYrUzJiOaJ",
        "outputId": "3407e8f2-8e0a-481b-f1f5-4e5d1f5d9a14"
      },
      "execution_count": 23,
      "outputs": [
        {
          "output_type": "display_data",
          "data": {
            "image/png": "[encoded data removed]",
            "text/plain": [
              "<Figure size 432x288 with 1 Axes>"
            ]
          },
          "metadata": {
            "needs_background": "light"
          }
        }
      ]
    },
    {
      "cell_type": "code",
      "source": [
        "import math\n",
        "import numpy as np\n",
        "import matplotlib.pyplot as plt\n",
        "\n",
        "angles = np.arange(-2*np.pi,2*np.pi,0.1)\n",
        "p_cos = np.cos(angles)\n",
        "\n",
        "fig, ax = plt.subplots()\n",
        "ax.plot(angles,p_cos)\n",
        "\n",
        "# add lines for between 1 and 6 terms in the Taylor Series\n",
        "for i in range(1,6):\n",
        "    t_cos = [func_cos(angle,i) for angle in angles]\n",
        "    ax.plot(angles,t_cos)\n",
        "\n",
        "ax.set_ylim([-7,4])\n",
        "\n",
        "# set up legend\n",
        "legend_lst = ['cos() function']\n",
        "for i in range(1,6):\n",
        "    legend_lst.append(f'Taylor Series - {i} terms')\n",
        "ax.legend(legend_lst, loc=3)\n",
        "\n",
        "plt.show()"
      ],
      "metadata": {
        "colab": {
          "base_uri": "https://localhost:8080/",
          "height": 269
        },
        "id": "Ow_kHyP1iqVu",
        "outputId": "7c595cd7-26fc-4366-e2c9-5cf48862e04b"
      },
      "execution_count": 26,
      "outputs": [
        {
          "output_type": "display_data",
          "data": {
            "image/png": "[encoded data removed]",
            "text/plain": [
              "<Figure size 432x288 with 1 Axes>"
            ]
          },
          "metadata": {
            "needs_background": "light"
          }
        }
      ]
    },
    {
      "cell_type": "markdown",
      "source": [
        "# Chapter 3.3"
      ],
      "metadata": {
        "id": "fLDpdGchi8w2"
      }
    },
    {
      "cell_type": "markdown",
      "source": [
        "Gradient Descent"
      ],
      "metadata": {
        "id": "jRTRbJ26jEg6"
      }
    },
    {
      "cell_type": "code",
      "source": [
        "# Importing Libraries\n",
        "import numpy as np\n",
        "import matplotlib.pyplot as plt\n",
        " \n",
        "def mean_squared_error(y_true, y_predicted):\n",
        "     \n",
        "    # Calculating the loss or cost\n",
        "    cost = np.sum((y_true-y_predicted)**2) / len(y_true)\n",
        "    return cost\n",
        " \n",
        "# Gradient Descent Function\n",
        "# Here iterations, learning_rate, stopping_threshold\n",
        "# are hyperparameters that can be tuned\n",
        "def gradient_descent(x, y, iterations = 1000, learning_rate = 0.0001,\n",
        "                     stopping_threshold = 1e-6):\n",
        "     \n",
        "    # Initializing weight, bias, learning rate and iterations\n",
        "    current_weight = 0.1\n",
        "    current_bias = 0.01\n",
        "    iterations = iterations\n",
        "    learning_rate = learning_rate\n",
        "    n = float(len(x))\n",
        "     \n",
        "    costs = []\n",
        "    weights = []\n",
        "    previous_cost = None\n",
        "     \n",
        "    # Estimation of optimal parameters\n",
        "    for i in range(iterations):\n",
        "         \n",
        "        # Making predictions\n",
        "        y_predicted = (current_weight * x) + current_bias\n",
        "         \n",
        "        # Calculationg the current cost\n",
        "        current_cost = mean_squared_error(y, y_predicted)\n",
        " \n",
        "        # If the change in cost is less than or equal to\n",
        "        # stopping_threshold we stop the gradient descent\n",
        "        if previous_cost and abs(previous_cost-current_cost)<=stopping_threshold:\n",
        "            break\n",
        "         \n",
        "        previous_cost = current_cost\n",
        " \n",
        "        costs.append(current_cost)\n",
        "        weights.append(current_weight)\n",
        "         \n",
        "        # Calculating the gradients\n",
        "        weight_derivative = -(2/n) * sum(x * (y-y_predicted))\n",
        "        bias_derivative = -(2/n) * sum(y-y_predicted)\n",
        "         \n",
        "        # Updating weights and bias\n",
        "        current_weight = current_weight - (learning_rate * weight_derivative)\n",
        "        current_bias = current_bias - (learning_rate * bias_derivative)\n",
        "                 \n",
        "        # Printing the parameters for each 1000th iteration\n",
        "        print(f\"Iteration {i+1}: Cost {current_cost}, Weight \\\n",
        "        {current_weight}, Bias {current_bias}\")\n",
        "     \n",
        "     \n",
        "    # Visualizing the weights and cost at for all iterations\n",
        "    plt.figure(figsize = (8,6))\n",
        "    plt.plot(weights, costs)\n",
        "    plt.scatter(weights, costs, marker='o', color='red')\n",
        "    plt.title(\"Cost vs Weights\")\n",
        "    plt.ylabel(\"Cost\")\n",
        "    plt.xlabel(\"Weight\")\n",
        "    plt.show()\n",
        "     \n",
        "    return current_weight, current_bias\n",
        " \n",
        " \n",
        "def main():\n",
        "     \n",
        "    # Data\n",
        "    X = np.array([32.50234527, 53.42680403, 61.53035803, 47.47563963, 59.81320787,\n",
        "           55.14218841, 52.21179669, 39.29956669, 48.10504169, 52.55001444,\n",
        "           45.41973014, 54.35163488, 44.1640495 , 58.16847072, 56.72720806,\n",
        "           48.95588857, 44.68719623, 60.29732685, 45.61864377, 38.81681754])\n",
        "    Y = np.array([31.70700585, 68.77759598, 62.5623823 , 71.54663223, 87.23092513,\n",
        "           78.21151827, 79.64197305, 59.17148932, 75.3312423 , 71.30087989,\n",
        "           55.16567715, 82.47884676, 62.00892325, 75.39287043, 81.43619216,\n",
        "           60.72360244, 82.89250373, 97.37989686, 48.84715332, 56.87721319])\n",
        " \n",
        "    # Estimating weight and bias using gradient descent\n",
        "    estimated_weight, eatimated_bias = gradient_descent(X, Y, iterations=2000)\n",
        "    print(f\"Estimated Weight: {estimated_weight}\\nEstimated Bias: {eatimated_bias}\")\n",
        " \n",
        "    # Making predictions using estimated parameters\n",
        "    Y_pred = estimated_weight*X + eatimated_bias\n",
        " \n",
        "    # Plotting the regression line\n",
        "    plt.figure(figsize = (8,6))\n",
        "    plt.scatter(X, Y, marker='o', color='red')\n",
        "    plt.plot([min(X), max(X)], [min(Y_pred), max(Y_pred)], color='blue',markerfacecolor='red',\n",
        "             markersize=10,linestyle='dashed')\n",
        "    plt.xlabel(\"X\")\n",
        "    plt.ylabel(\"Y\")\n",
        "    plt.show()\n",
        " \n",
        "     \n",
        "if __name__==\"__main__\":\n",
        "    main()"
      ],
      "metadata": {
        "colab": {
          "base_uri": "https://localhost:8080/",
          "height": 1000
        },
        "id": "Kprr-6SCkH7P",
        "outputId": "84302266-a047-47a0-d148-9832db8547ba"
      },
      "execution_count": 31,
      "outputs": [
        {
          "output_type": "stream",
          "name": "stdout",
          "text": [
            "Iteration 1: Cost 4352.088931274409, Weight         0.7593291142562117, Bias 0.02288558130709\n",
            "Iteration 2: Cost 1114.8561474350017, Weight         1.081602958862324, Bias 0.02918014748569513\n",
            "Iteration 3: Cost 341.42912086804455, Weight         1.2391274084945083, Bias 0.03225308846928192\n",
            "Iteration 4: Cost 156.64495290904443, Weight         1.3161239281746984, Bias 0.03375132986012604\n",
            "Iteration 5: Cost 112.49704004742098, Weight         1.3537591652024805, Bias 0.034479873154934775\n",
            "Iteration 6: Cost 101.9493925395456, Weight         1.3721549833978113, Bias 0.034832195392868505\n",
            "Iteration 7: Cost 99.4293893333546, Weight         1.3811467575154601, Bias 0.03500062439068245\n",
            "Iteration 8: Cost 98.82731958262897, Weight         1.3855419247507244, Bias 0.03507916814736111\n",
            "Iteration 9: Cost 98.68347500997261, Weight         1.3876903144657764, Bias 0.035113776874486774\n",
            "Iteration 10: Cost 98.64910780902792, Weight         1.3887405007983562, Bias 0.035126910596389935\n",
            "Iteration 11: Cost 98.64089651459352, Weight         1.389253895811451, Bias 0.03512954755833985\n",
            "Iteration 12: Cost 98.63893428729509, Weight         1.38950491235671, Bias 0.035127053821718185\n",
            "Iteration 13: Cost 98.63846506273883, Weight         1.3896276808137857, Bias 0.035122052266051224\n",
            "Iteration 14: Cost 98.63835254057648, Weight         1.38968776283053, Bias 0.03511582492978764\n",
            "Iteration 15: Cost 98.63832524036214, Weight         1.3897172043139192, Bias 0.03510899846107016\n",
            "Iteration 16: Cost 98.63831830104695, Weight         1.389731668997059, Bias 0.035101879159522745\n",
            "Iteration 17: Cost 98.63831622628217, Weight         1.389738813163012, Bias 0.03509461674147458\n"
          ]
        },
        {
          "output_type": "display_data",
          "data": {
            "image/png": "[encoded data removed]",
            "text/plain": [
              "<Figure size 576x432 with 1 Axes>"
            ]
          },
          "metadata": {
            "needs_background": "light"
          }
        },
        {
          "output_type": "stream",
          "name": "stdout",
          "text": [
            "Estimated Weight: 1.389738813163012\n",
            "Estimated Bias: 0.03509461674147458\n"
          ]
        },
        {
          "output_type": "display_data",
          "data": {
            "image/png": "[encoded data removed]",
            "text/plain": [
              "<Figure size 576x432 with 1 Axes>"
            ]
          },
          "metadata": {
            "needs_background": "light"
          }
        }
      ]
    }
  ]
}