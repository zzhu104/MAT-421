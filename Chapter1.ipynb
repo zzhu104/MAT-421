{
  "nbformat": 4,
  "nbformat_minor": 0,
  "metadata": {
    "colab": {
      "name": "Untitled18.ipynb",
      "provenance": [],
      "authorship_tag": "ABX9TyPgZs/1Sabnp7uWqRDblW+X",
      "include_colab_link": true
    },
    "kernelspec": {
      "name": "python3",
      "display_name": "Python 3"
    },
    "language_info": {
      "name": "python"
    }
  },
  "cells": [
    {
      "cell_type": "markdown",
      "metadata": {
        "id": "view-in-github",
        "colab_type": "text"
      },
      "source": [
        "<a href=\"https://colab.research.google.com/github/zzhu104/MAT-421/blob/main/Chapter1.ipynb\" target=\"_parent\"><img src=\"https://colab.research.google.com/assets/colab-badge.svg\" alt=\"Open In Colab\"/></a>"
      ]
    },
    {
      "cell_type": "markdown",
      "source": [
        "# **Chapter 1 Linear Algebra**"
      ],
      "metadata": {
        "id": "0JLK4_8t8Drt"
      }
    },
    {
      "cell_type": "markdown",
      "source": [
        "The vector y = (3.21, 1.77, 3.65) can be easily written as a linear combination of the unit vectors (0,0,1), (0,1,0) and (1,0,0):\n",
        "\n",
        "(3.21, 1.77, 3.65) = 3.21 · (1,0,0) + 1.77 (0,1,0) + 3.65 · (0,0,1)\n",
        "\n",
        "We can do the calculation with Python, using the module numpy:"
      ],
      "metadata": {
        "id": "PNHbFEzG8OWm"
      }
    },
    {
      "cell_type": "code",
      "execution_count": 1,
      "metadata": {
        "colab": {
          "base_uri": "https://localhost:8080/"
        },
        "id": "EnUq4mHi7xob",
        "outputId": "4d2f4720-86b8-419c-d28f-38455292bd0d"
      },
      "outputs": [
        {
          "output_type": "execute_result",
          "data": {
            "text/plain": [
              "array([3.42, 1.55, 3.65])"
            ]
          },
          "metadata": {},
          "execution_count": 1
        }
      ],
      "source": [
        "import numpy as np\n",
        "x = np.array([[0, 0, 1],\n",
        "              [0, 1, 0],\n",
        "              [1, 0, 0]])\n",
        "y = ([3.65, 1.55, 3.42])\n",
        "scalars = np.linalg.solve(x, y)\n",
        "scalars"
      ]
    },
    {
      "cell_type": "markdown",
      "source": [
        "The previous example was very easy, because we could work out the result in our head. What about writing our vector y = (3.21, 1.77, 3.65) as a linear combination of the vectors (0,1,1), (1,1,0) and (1,0,1)? It looks like this in Python:"
      ],
      "metadata": {
        "id": "fUeRp7zg8TYm"
      }
    },
    {
      "cell_type": "code",
      "source": [
        "import numpy as np\n",
        "x = np.array([[0, 1, 1],\n",
        "              [1, 1, 0],\n",
        "              [1, 0, 1]])\n",
        "y = ([3.65, 1.55, 3.42])\n",
        "scalars = np.linalg.solve(x, y)\n",
        "scalars"
      ],
      "metadata": {
        "colab": {
          "base_uri": "https://localhost:8080/"
        },
        "id": "h8Qu_plJ8UBZ",
        "outputId": "1cc74833-9dea-4195-8406-05db4081d637"
      },
      "execution_count": 2,
      "outputs": [
        {
          "output_type": "execute_result",
          "data": {
            "text/plain": [
              "array([0.66, 0.89, 2.76])"
            ]
          },
          "metadata": {},
          "execution_count": 2
        }
      ]
    },
    {
      "cell_type": "markdown",
      "source": [
        "Any integer between -40 and 40 can be written as a linear combination of 1, 3, 9, 27 with scalars being elements of the set {-1, 0, 1}.\n",
        "\n",
        "For example:\n",
        "\n",
        "7 = 1 · 1 + (-1) · 3 + 1 · 9 + 0 · 27\n",
        "\n",
        "We can calculate these scalars with Python. First we need a generator generating all the possible scalar combinations. If you have problems in understanding the concept of a generator, we recommend the chapter \"Iterators and Generators\" of our tutorial."
      ],
      "metadata": {
        "id": "M_5TJgou8Vd8"
      }
    },
    {
      "cell_type": "code",
      "source": [
        "def factors_set():\n",
        "    for i in [-1, 0, 1]:\n",
        "        for j in [-1,0,1]:\n",
        "            for k in [-1,0,1]:\n",
        "                for l in [-1,0,1]:\n",
        "                    yield (i, j, k, l)  "
      ],
      "metadata": {
        "id": "ktEpSRIw8X8-"
      },
      "execution_count": null,
      "outputs": []
    },
    {
      "cell_type": "markdown",
      "source": [
        "We will use the memoize() technique to memorize previous results:"
      ],
      "metadata": {
        "id": "Qdf_zDUf8ZXt"
      }
    },
    {
      "cell_type": "code",
      "source": [
        "def memoize(f):\n",
        "    results = {}\n",
        "    def helper(n):\n",
        "        if n not in results:\n",
        "            results[n] = f(n)\n",
        "        return results[n]\n",
        "    return helper"
      ],
      "metadata": {
        "id": "RxutP7wg8ceX"
      },
      "execution_count": null,
      "outputs": []
    },
    {
      "cell_type": "markdown",
      "source": [
        "Finally, in our function linear_combination() we check every scalar tuple, if it can create the value n:"
      ],
      "metadata": {
        "id": "_t3yELMu8e08"
      }
    },
    {
      "cell_type": "code",
      "source": [
        "@memoize\n",
        "def linear_combination(n):\n",
        "    \"\"\" returns the tuple (i,j,k,l) satisfying\n",
        "        n = i*1 + j*3 + k*9 + l*27      \"\"\"\n",
        "    weighs = (1,3,9,27)\n",
        "      \n",
        "    for factors in factors_set():\n",
        "       sum = 0\n",
        "       for i in range(len(factors)):\n",
        "          sum += factors[i] * weighs[i]\n",
        "       if sum == n:\n",
        "          return factors"
      ],
      "metadata": {
        "id": "v9vke0CS8gCS"
      },
      "execution_count": null,
      "outputs": []
    },
    {
      "cell_type": "markdown",
      "source": [
        "Putting it all together results in the following script:"
      ],
      "metadata": {
        "id": "8lxre80C8hZR"
      }
    },
    {
      "cell_type": "code",
      "source": [
        "def factors_set():\n",
        "    for i in [-1, 0, 1]:\n",
        "        for j in [-1, 0, 1]:\n",
        "            for k in [-1, 0, 1]:\n",
        "                for l in [-1, 0, 1]:\n",
        "                    yield (i, j, k, l)  \n",
        "\n",
        "\n",
        "def memoize(f):\n",
        "    results = {}\n",
        "    def helper(n):\n",
        "        if n not in results:\n",
        "            results[n] = f(n)\n",
        "        return results[n]\n",
        "    return helper\n",
        "\n",
        "@memoize\n",
        "def linear_combination(n):\n",
        "    \"\"\" returns the tuple (i,j,k,l) satisfying\n",
        "        n = i*1 + j*3 + k*9 + l*27      \"\"\"\n",
        "    weighs = (1, 3, 9, 27)\n",
        "      \n",
        "    for factors in factors_set():\n",
        "       sum = 0\n",
        "       for i in range(len(factors)):\n",
        "          sum += factors[i] * weighs[i]\n",
        "       if sum == n:\n",
        "          return factors\n",
        "\n",
        "# calculate the linear combinations of the first 10 positive integers:\n",
        "for i in range(1,11):\n",
        "    print(linear_combination(i))"
      ],
      "metadata": {
        "id": "-t5DBxqr8iwo"
      },
      "execution_count": null,
      "outputs": []
    },
    {
      "cell_type": "markdown",
      "source": [
        "Visualization of Orthogonal Vectors"
      ],
      "metadata": {
        "id": "wTgBYlfH-Fa5"
      }
    },
    {
      "cell_type": "markdown",
      "source": [
        "First, a 2D representation of orthogonal vectors."
      ],
      "metadata": {
        "id": "-lO5fNyE-Np9"
      }
    },
    {
      "cell_type": "code",
      "source": [
        "import numpy as np\n",
        "import matplotlib.pyplot as plt\n",
        "from mpl_toolkits.mplot3d import Axes3D\n",
        "\n",
        "fig = plt.figure(figsize=(5, 5))\n",
        "ax = fig.add_subplot(111)\n",
        "\n",
        "ax.grid(alpha=0.4)\n",
        "ax.set(xlim=(-3, 3), ylim=(-3, 3))\n",
        "\n",
        "v1 = np.array([1,  2])\n",
        "v2 = np.array([2, -1])\n",
        "\n",
        "# Plot the orthogonal vectors\n",
        "ax.annotate('', xy=v1, xytext=(0, 0), arrowprops=dict(facecolor='r'))\n",
        "ax.annotate('', xy=v2, xytext=(0, 0), arrowprops=dict(facecolor='g'))\n",
        "plt.show()"
      ],
      "metadata": {
        "colab": {
          "base_uri": "https://localhost:8080/",
          "height": 324
        },
        "id": "DVGvMlf9-HE9",
        "outputId": "872e3503-7d2d-4b76-8b45-eac724712298"
      },
      "execution_count": 4,
      "outputs": [
        {
          "output_type": "display_data",
          "data": {
            "image/png": "[encoded data removed]",
            "text/plain": [
              "<Figure size 360x360 with 1 Axes>"
            ]
          },
          "metadata": {
            "needs_background": "light"
          }
        }
      ]
    },
    {
      "cell_type": "markdown",
      "source": [
        "And here's an example of orthogonal vectors in 3D space."
      ],
      "metadata": {
        "id": "ovC1Ktrg-QEq"
      }
    },
    {
      "cell_type": "code",
      "source": [
        "# 3D representation of the orthogonal vectors\n",
        "fig = plt.figure(figsize=(8, 8))\n",
        "ax = fig.add_subplot(111, projection='3d')\n",
        "\n",
        "# Define the orthogonal vectors\n",
        "v1 = np.array([ 0, 0, -1])\n",
        "v2 = np.array([ 1, 1, 0])\n",
        "v3 = np.array([-1, 1, 0])\n",
        " \n",
        "# Plot the orthogonal vectors\n",
        "ax.quiver( 0, 0, 0, v1[0], v1[1], v1[2], color = 'r', lw=3, arrow_length_ratio=0.2)\n",
        "ax.quiver( 0, 0, 0, v2[0], v2[1], v2[2], color = 'g', lw=3, arrow_length_ratio=0.2)\n",
        "ax.quiver( 0, 0, 0, v3[0], v3[1], v3[2], color = 'b', lw=3, arrow_length_ratio=0.2)\n",
        "\n",
        "ax.set_xlim([-1, 1]), ax.set_ylim([-1, 1]), ax.set_zlim([-1, 1])\n",
        "ax.set_xlabel('X axis'), ax.set_ylabel('Y axis'), ax.set_zlabel('Z axis')\n",
        "plt.show()"
      ],
      "metadata": {
        "colab": {
          "base_uri": "https://localhost:8080/",
          "height": 466
        },
        "id": "2a1saeWy-RF0",
        "outputId": "f19295cc-e365-4cd1-a1f5-80c8b256ff84"
      },
      "execution_count": 5,
      "outputs": [
        {
          "output_type": "display_data",
          "data": {
            "image/png": "[encoded data removed]",
            "text/plain": [
              "<Figure size 576x576 with 1 Axes>"
            ]
          },
          "metadata": {
            "needs_background": "light"
          }
        }
      ]
    },
    {
      "cell_type": "markdown",
      "source": [
        "Linear Regression"
      ],
      "metadata": {
        "id": "-jaV9u8tBDYi"
      }
    },
    {
      "cell_type": "markdown",
      "source": [
        "Step 1: Import packages and classes\n",
        "\n",
        "The first step is to import the package numpy and the class LinearRegression from sklearn.linear_model:"
      ],
      "metadata": {
        "id": "g4IdtJlGBFqa"
      }
    },
    {
      "cell_type": "code",
      "source": [
        "import numpy as np\n",
        "from sklearn.linear_model import LinearRegression"
      ],
      "metadata": {
        "id": "iWBhXSFABFDh"
      },
      "execution_count": 6,
      "outputs": []
    },
    {
      "cell_type": "markdown",
      "source": [
        "Step 2: Provide data\n",
        "\n",
        "The second step is defining data to work with. The inputs (regressors, 𝑥) and output (predictor, 𝑦) should be arrays (the instances of the class numpy.ndarray) or similar objects. This is the simplest way of providing data for regression:"
      ],
      "metadata": {
        "id": "2QUX-1veBJ8E"
      }
    },
    {
      "cell_type": "code",
      "source": [
        "x = np.array([5, 15, 25, 35, 45, 55]).reshape((-1, 1))\n",
        "y = np.array([5, 20, 14, 32, 22, 38])"
      ],
      "metadata": {
        "id": "A97JBG-oBK-q"
      },
      "execution_count": 7,
      "outputs": []
    },
    {
      "cell_type": "markdown",
      "source": [
        "Step 3: Create a model and fit it\n",
        "\n",
        "The next step is to create a linear regression model and fit it using the existing data.\n",
        "\n",
        "Let’s create an instance of the class LinearRegression, which will represent the regression model:"
      ],
      "metadata": {
        "id": "Jnr0iOQhBMkZ"
      }
    },
    {
      "cell_type": "code",
      "source": [
        "model = LinearRegression()\n",
        "model.fit(x, y)\n",
        "model = LinearRegression().fit(x, y)"
      ],
      "metadata": {
        "id": "QyqhKUC5BN0D"
      },
      "execution_count": 8,
      "outputs": []
    },
    {
      "cell_type": "markdown",
      "source": [
        "Step 4: Get results\n",
        "\n",
        "Once you have your model fitted, you can get the results to check whether the model works satisfactorily and interpret it.\n",
        "\n",
        "You can obtain the coefficient of determination (𝑅²) with .score() called on model:"
      ],
      "metadata": {
        "id": "MEvRGpAtBRnP"
      }
    },
    {
      "cell_type": "code",
      "source": [
        "r_sq = model.score(x, y)\n",
        "print('coefficient of determination:', r_sq)\n"
      ],
      "metadata": {
        "colab": {
          "base_uri": "https://localhost:8080/"
        },
        "id": "wDOeccSmBVvC",
        "outputId": "44f3f316-3f69-47b6-f9d2-793409f3f239"
      },
      "execution_count": 9,
      "outputs": [
        {
          "output_type": "stream",
          "name": "stdout",
          "text": [
            "coefficient of determination: 0.7158756137479542\n"
          ]
        }
      ]
    },
    {
      "cell_type": "code",
      "source": [
        "print('intercept:', model.intercept_)\n",
        "print('slope:', model.coef_)"
      ],
      "metadata": {
        "colab": {
          "base_uri": "https://localhost:8080/"
        },
        "id": "eSDr02p1Ba4U",
        "outputId": "ba5827e6-8786-4078-a31a-b6034a5ba84b"
      },
      "execution_count": 10,
      "outputs": [
        {
          "output_type": "stream",
          "name": "stdout",
          "text": [
            "intercept: 5.633333333333329\n",
            "slope: [0.54]\n"
          ]
        }
      ]
    },
    {
      "cell_type": "code",
      "source": [
        "new_model = LinearRegression().fit(x, y.reshape((-1, 1)))\n",
        "print('intercept:', new_model.intercept_)\n",
        "print('slope:', new_model.coef_)"
      ],
      "metadata": {
        "colab": {
          "base_uri": "https://localhost:8080/"
        },
        "id": "T3KPFwLtBerX",
        "outputId": "81b44dc8-777e-4502-d81b-b6a7c2997fd2"
      },
      "execution_count": 11,
      "outputs": [
        {
          "output_type": "stream",
          "name": "stdout",
          "text": [
            "intercept: [5.63333333]\n",
            "slope: [[0.54]]\n"
          ]
        }
      ]
    },
    {
      "cell_type": "code",
      "source": [
        "y_pred = model.predict(x)\n",
        "print('predicted response:', y_pred, sep='\\n')"
      ],
      "metadata": {
        "colab": {
          "base_uri": "https://localhost:8080/"
        },
        "id": "2qQOgTKYBjSu",
        "outputId": "59667255-b21f-4958-d5a5-fa90ad8ce062"
      },
      "execution_count": 12,
      "outputs": [
        {
          "output_type": "stream",
          "name": "stdout",
          "text": [
            "predicted response:\n",
            "[ 8.33333333 13.73333333 19.13333333 24.53333333 29.93333333 35.33333333]\n"
          ]
        }
      ]
    },
    {
      "cell_type": "code",
      "source": [
        "y_pred = model.intercept_ + model.coef_ * x\n",
        "print('predicted response:', y_pred, sep='\\n')"
      ],
      "metadata": {
        "colab": {
          "base_uri": "https://localhost:8080/"
        },
        "id": "lmxJJTU2Bmta",
        "outputId": "78e3cf7f-5a2b-484f-a19a-455234b07e09"
      },
      "execution_count": 13,
      "outputs": [
        {
          "output_type": "stream",
          "name": "stdout",
          "text": [
            "predicted response:\n",
            "[[ 8.33333333]\n",
            " [13.73333333]\n",
            " [19.13333333]\n",
            " [24.53333333]\n",
            " [29.93333333]\n",
            " [35.33333333]]\n"
          ]
        }
      ]
    },
    {
      "cell_type": "code",
      "source": [
        "x_new = np.arange(5).reshape((-1, 1))\n",
        "print(x_new)\n",
        "y_new = model.predict(x_new)\n",
        "print(y_new)"
      ],
      "metadata": {
        "colab": {
          "base_uri": "https://localhost:8080/"
        },
        "id": "lZRdJGP2Bmsj",
        "outputId": "0e384a05-03c7-4e2e-dd8f-a650ab3f4a10"
      },
      "execution_count": 14,
      "outputs": [
        {
          "output_type": "stream",
          "name": "stdout",
          "text": [
            "[[0]\n",
            " [1]\n",
            " [2]\n",
            " [3]\n",
            " [4]]\n",
            "[5.63333333 6.17333333 6.71333333 7.25333333 7.79333333]\n"
          ]
        }
      ]
    }
  ]
}